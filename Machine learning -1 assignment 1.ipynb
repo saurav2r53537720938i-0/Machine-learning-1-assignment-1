{
 "cells": [
  {
   "cell_type": "markdown",
   "id": "f3905ce8-da5f-4e40-a912-3ac14a213140",
   "metadata": {},
   "source": [
    "here is the brief explanation of each with an example:"
   ]
  },
  {
   "cell_type": "markdown",
   "id": "134dbc0c-3b46-4de8-82bf-b0b450563d09",
   "metadata": {},
   "source": [
    "1. Artficial Intelligence(AI): AI refers to the simulation of human intelligence process by machines,especially computer system.It encompasses various technquies including machine learning deep learningg to enable machines to perform tasks for example:AI can be the used in virtual assistant like sirri or alexa.\n",
    "2. Machine learning: Machine learning is a subset of AI thst focuses on the development of alogorthims that enable computers to learn from and make prdections or decision based on data.intsead ob being explcity programmed to perform a specfic task.\n",
    "3. Deep Learning: Deep learning is a subset of machine learning that utlize artficial netural networks with multiple layers to learn complex patterns from large amount of data"
   ]
  },
  {
   "cell_type": "markdown",
   "id": "ebabf040-8e87-44ed-a2a0-7e239f50fb6b",
   "metadata": {},
   "source": [
    "Supervised learning is a type of machine learning where the alogorithim learns from labelled data,which means the input data is paired with the correct output.During traaning,the alogorthim learn to map the input data to the corresponding output labels,and then it can make predictions on new ,unseen data.\n",
    "1. Classfication\n",
    "2. Regression"
   ]
  },
  {
   "cell_type": "markdown",
   "id": "1032acad-4de6-4d71-bbdd-70683faca26a",
   "metadata": {},
   "source": [
    "Unsupervised learniing is a type of machine learning where the algorthim learns pattern from unlabelled data without explcit supervision learning the alogarthiim explores the structure of the data to find hidden patterns or instrnic relationship without being told what to look for.\n",
    "1. Clustering\n",
    "2. Dimensionality reduction\n",
    "3. Anomaly detection"
   ]
  },
  {
   "cell_type": "markdown",
   "id": "36656ead-2127-4d31-9cc2-f9de7359ef96",
   "metadata": {},
   "source": [
    "The main diffrence between supervised,unsupervised,and  semi-supervised learning lie in how they utlize labelled and unlabelled data as well as their respective goals and application.\n",
    "1. supervised learning:utlizes labeled data where each exaample consists of input features and  corresponding output labels\n",
    "2. Unsupervised learning:utlizes unlabeled data where no explcit output labels are provided\n",
    "3. Semi-supervised learning:utlize a combination of labelled and unlabelled data."
   ]
  },
  {
   "cell_type": "markdown",
   "id": "bc62d23c-31a3-48e1-a880-241cb0abd451",
   "metadata": {},
   "source": [
    "A train,test and validation split refers to the divsion of a datset into three subset for training,testing and validation purpose in machine learning model development.\n",
    "1. Traning Set\n",
    "2. Test set\n",
    "3. Validation set"
   ]
  },
  {
   "cell_type": "markdown",
   "id": "fc2eac2a-a697-485c-bf04-e0d7de479237",
   "metadata": {},
   "source": [
    "Supervised learning can be used in anomly detection by farming the problem as a classification task,where the goal is to classify data point as either normal o"
   ]
  }
 ],
 "metadata": {
  "kernelspec": {
   "display_name": "Python 3 (ipykernel)",
   "language": "python",
   "name": "python3"
  },
  "language_info": {
   "codemirror_mode": {
    "name": "ipython",
    "version": 3
   },
   "file_extension": ".py",
   "mimetype": "text/x-python",
   "name": "python",
   "nbconvert_exporter": "python",
   "pygments_lexer": "ipython3",
   "version": "3.10.8"
  }
 },
 "nbformat": 4,
 "nbformat_minor": 5
}
